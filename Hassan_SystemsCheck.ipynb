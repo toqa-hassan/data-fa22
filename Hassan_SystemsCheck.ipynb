{
 "cells": [
  {
   "cell_type": "markdown",
   "id": "5a7d6216",
   "metadata": {},
   "source": [
    "Image goes Here"
   ]
  },
  {
   "cell_type": "markdown",
   "id": "3bf7af04",
   "metadata": {},
   "source": [
    "# Systems Check 1 2 3, Check Check 1 2 3."
   ]
  },
  {
   "cell_type": "markdown",
   "id": "1cab0b4b",
   "metadata": {},
   "source": [
    "## This is the first assignment of the Data in EMAT Class\n",
    "\n",
    "### The assignment requirements are to:\n",
    "1. multi-level headings, \n",
    "2. ordered lists, and \n",
    "3. basic text and image formats\n",
    "#### Header 4\n",
    "##### Header 5\n",
    "###### Header 6"
   ]
  },
  {
   "cell_type": "code",
   "execution_count": 6,
   "id": "0505de9b",
   "metadata": {},
   "outputs": [
    {
     "name": "stdout",
     "output_type": "stream",
     "text": [
      "1\n",
      "2\n",
      "3\n",
      "4\n"
     ]
    }
   ],
   "source": [
    "for i in [1,2,3,4]:\n",
    "    print(i)"
   ]
  },
  {
   "cell_type": "code",
   "execution_count": 7,
   "id": "d1bab6ad",
   "metadata": {},
   "outputs": [
    {
     "name": "stdout",
     "output_type": "stream",
     "text": [
      "Toqa\n"
     ]
    }
   ],
   "source": [
    "x = \"Toqa\"\n",
    "print(x)"
   ]
  },
  {
   "cell_type": "code",
   "execution_count": 8,
   "id": "b037f808",
   "metadata": {},
   "outputs": [],
   "source": [
    "def names (x): \n",
    "    return(x)"
   ]
  },
  {
   "cell_type": "code",
   "execution_count": 9,
   "id": "ded69fdf",
   "metadata": {},
   "outputs": [
    {
     "name": "stdout",
     "output_type": "stream",
     "text": [
      "Toqa\n"
     ]
    }
   ],
   "source": [
    "y = names(\"Toqa\")\n",
    "print(y)"
   ]
  }
 ],
 "metadata": {
  "kernelspec": {
   "display_name": "Python 3 (ipykernel)",
   "language": "python",
   "name": "python3"
  },
  "language_info": {
   "codemirror_mode": {
    "name": "ipython",
    "version": 3
   },
   "file_extension": ".py",
   "mimetype": "text/x-python",
   "name": "python",
   "nbconvert_exporter": "python",
   "pygments_lexer": "ipython3",
   "version": "3.10.6"
  }
 },
 "nbformat": 4,
 "nbformat_minor": 5
}
